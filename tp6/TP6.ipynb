{
 "cells": [
  {
   "cell_type": "markdown",
   "metadata": {},
   "source": [
    "# TP6 - Procesamiento de Lenguaje Natural"
   ]
  },
  {
   "cell_type": "markdown",
   "metadata": {},
   "source": [
    "Imports"
   ]
  },
  {
   "cell_type": "code",
   "execution_count": 1,
   "metadata": {
    "collapsed": false
   },
   "outputs": [],
   "source": [
    "import pandas as pd\n",
    "import scipy.io\n",
    "import numpy as np\n",
    "import matplotlib.pyplot as plt\n",
    "import seaborn as sns; sns.set_style(\"darkgrid\")\n",
    "import scipy\n",
    "import itertools\n",
    "import random\n",
    "import math\n",
    "import operator\n",
    "import re\n",
    "import nltk\n",
    "import string\n",
    "import xml.etree.ElementTree as et\n",
    "from random import shuffle\n",
    "from heapq import nsmallest\n",
    "from nltk.corpus import wordnet\n",
    "from lxml import etree\n",
    "from collections import Counter\n",
    "from nltk.stem.wordnet import WordNetLemmatizer\n",
    "from nltk.collocations import *\n",
    "from nltk.corpus import stopwords, wordnet\n",
    "from gensim import corpora, models, similarities, matutils\n",
    "wnl = WordNetLemmatizer()\n",
    "sns.plt = plt\n",
    "# nltk.download()"
   ]
  },
  {
   "cell_type": "markdown",
   "metadata": {},
   "source": [
    "## 1 - Asociacion de palabras\n",
    "**1.1 Levantar el corpus AP, separando cada noticia como un elemento distinto en un diccionario ( < doc_no > : < text > ).**\n",
    "\n",
    "Librerias necesarias: html5lib, lxml, bs4, re"
   ]
  },
  {
   "cell_type": "code",
   "execution_count": 2,
   "metadata": {
    "collapsed": true
   },
   "outputs": [],
   "source": [
    "ap_xml_data = open('data/ap.txt').read()\n",
    "sent_detector = nltk.data.load('tokenizers/punkt/english.pickle')\n",
    "tokenizer = nltk.tokenize.TreebankWordTokenizer()\n",
    "\n",
    "def word_normalize(txt):\n",
    "    return txt.translate(None, string.punctuation).lower() #.replace(\"'\", \"\")\n",
    "\n",
    "def xml2df(xml_data):\n",
    "    root = et.XML(xml_data, parser=etree.XMLParser(recover=True)) # element tree\n",
    "    all_records = []\n",
    "    for i, child in enumerate(root):\n",
    "        record = {}\n",
    "        for subchild in child:\n",
    "            if subchild.tag==\"DOCNO\":\n",
    "                record[subchild.tag] = subchild.text\n",
    "            elif subchild.tag==\"TEXT\":\n",
    "                record[subchild.tag] = beautify(word_normalize(subchild.text))\n",
    "        all_records.append(record)\n",
    "    df = pd.DataFrame(all_records)\n",
    "    df.set_index('DOCNO', inplace=True)\n",
    "    return df\n",
    "\n",
    "def split(text):\n",
    "    sentences = sent_detector.tokenize(text)\n",
    "    tokens = [tokenizer.tokenize(sent) for sent in sentences]\n",
    "    return tokens\n",
    "\n",
    "def get_wordnet_pos(treebank_tag):\n",
    "    if treebank_tag.startswith('J'):\n",
    "        return wordnet.ADJ\n",
    "    elif treebank_tag.startswith('V'):\n",
    "        return wordnet.VERB\n",
    "    elif treebank_tag.startswith('N'):\n",
    "        return wordnet.NOUN\n",
    "    elif treebank_tag.startswith('R'):\n",
    "        return wordnet.ADV\n",
    "    else:\n",
    "        return None\n",
    "\n",
    "def pos_tag(tokens):\n",
    "    pos_tokens = [nltk.pos_tag(token) for token in tokens]\n",
    "    pos_tokens = [[(word, wnl.lemmatize(word,get_wordnet_pos(pos_tag)), [pos_tag]) \n",
    "                  for (word,pos_tag) in filter(lambda (w,t): get_wordnet_pos(t) != None,pos)] \n",
    "                  for pos in pos_tokens]\n",
    "    return pos_tokens\n",
    "\n",
    "def beautify(txt):\n",
    "    tokens = split(txt)\n",
    "    lemma_pos_token = pos_tag(tokens)\n",
    "    return [w2.encode('utf-8') for sublist in lemma_pos_token for (w1,w2,t) in sublist]"
   ]
  },
  {
   "cell_type": "code",
   "execution_count": 3,
   "metadata": {
    "collapsed": true
   },
   "outputs": [],
   "source": [
    "ap_df = xml2df(ap_xml_data)"
   ]
  },
  {
   "cell_type": "code",
   "execution_count": 4,
   "metadata": {
    "collapsed": false
   },
   "outputs": [
    {
     "name": "stdout",
     "output_type": "stream",
     "text": [
      "AP cargado.\n",
      "Resumen de los primeros 10 documentos:\n",
      "                                                              TEXT\n",
      "DOCNO                                                             \n",
      " AP881218-0003   [student, private, baptist, school, allegedly,...\n",
      " AP880224-0195   [bechtel, group, inc, offer, sell, oil, israel...\n",
      " AP881017-0144   [gunman, take, woman, hostage, be, foil, attem...\n",
      " AP881017-0219   [today, be, saturday, day, be, day, leave, yea...\n",
      " AP900117-0022   [cupid, have, new, message, lover, valentine, ...\n",
      " AP880405-0167   [reagan, administration, be, weigh, invoke, la...\n",
      " AP880825-0239   [more, skin, protected, specie, alligator, be,...\n",
      " AP880325-0232   [be, organize, union, boost, single, candidate...\n",
      " AP880908-0056   [here, be, summary, development, forest, brush...\n",
      " AP881105-0097   [jeanpierre, stirbois, man, extremeright, nati...\n"
     ]
    }
   ],
   "source": [
    "print \"AP cargado.\"\n",
    "print \"Resumen de los primeros 10 documentos:\"\n",
    "print ap_df.iloc[0:10]"
   ]
  },
  {
   "cell_type": "markdown",
   "metadata": {},
   "source": [
    "**1.2 Calcular el tamano del vocabulario.**"
   ]
  },
  {
   "cell_type": "code",
   "execution_count": 5,
   "metadata": {
    "collapsed": true
   },
   "outputs": [],
   "source": [
    "freq_vocab = dict()\n",
    "for index, row in ap_df.iterrows():\n",
    "    for word in row[0]:\n",
    "        freq_vocab[word] = freq_vocab.get(word, 0) + 1"
   ]
  },
  {
   "cell_type": "code",
   "execution_count": 6,
   "metadata": {
    "collapsed": false
   },
   "outputs": [
    {
     "name": "stdout",
     "output_type": "stream",
     "text": [
      "El vocabulario tiene: 31793 palabras.\n"
     ]
    }
   ],
   "source": [
    "print \"El vocabulario tiene: \" + str(len(freq_vocab)) + \" palabras.\""
   ]
  },
  {
   "cell_type": "markdown",
   "metadata": {},
   "source": [
    "**1.3 Para las 500 palabras con mas apariciones, calcular el par mas asociado segun la medida presentada.**"
   ]
  },
  {
   "cell_type": "code",
   "execution_count": 7,
   "metadata": {
    "collapsed": false
   },
   "outputs": [
    {
     "name": "stdout",
     "output_type": "stream",
     "text": [
      "Se obtuvieron las 500 palabras con mas apariciones.\n"
     ]
    }
   ],
   "source": [
    "max_freq_vocab = dict(sorted(freq_vocab.iteritems(), key=operator.itemgetter(1), reverse=True)[:500])\n",
    "print \"Se obtuvieron las \" + str(len(max_freq_vocab)) + \" palabras con mas apariciones.\""
   ]
  },
  {
   "cell_type": "markdown",
   "metadata": {},
   "source": [
    "Usamos PMI:\n",
    "\n",
    "Sean X,Y palabras, N la cantidad de palabras de todos los textos, W la ventana de co-ocurrencia:\n",
    "\n",
    "f(X)=occurs(X). f(X,Y)=occurs(Y despues de X, a distancia <= W)/(W-1).\n",
    "\n",
    "P(X)=f(X)/N. P(X,Y)=f(X,Y)/N.\n",
    "\n",
    "I(X,Y)=log2(P(X,Y) / (P(X) x P(Y)))=log2( ( f(X,Y) x N ) / ( f(X) x f(Y) ))"
   ]
  },
  {
   "cell_type": "code",
   "execution_count": 8,
   "metadata": {
    "collapsed": true
   },
   "outputs": [],
   "source": [
    "bigram_measures = nltk.collocations.BigramAssocMeasures()\n",
    "def score_associated_pairs(txts, relevant_words, W):\n",
    "    finder = BigramCollocationFinder.from_words(\n",
    "        BigramCollocationFinder._build_new_documents(txts, BigramCollocationFinder.default_ws, pad_right=True),\n",
    "        window_size=W)\n",
    "    finder.apply_word_filter(lambda w: w not in relevant_words or w in stopwords.words('english'))\n",
    "    finder.apply_ngram_filter(lambda w1, w2: w1==w2)\n",
    "    return finder.score_ngrams(bigram_measures.pmi)\n",
    "scores = score_associated_pairs(ap_df.iloc[:,0], max_freq_vocab.keys(), 5)"
   ]
  },
  {
   "cell_type": "markdown",
   "metadata": {},
   "source": [
    "10 pares mas asociados"
   ]
  },
  {
   "cell_type": "code",
   "execution_count": 9,
   "metadata": {
    "collapsed": false,
    "scrolled": true
   },
   "outputs": [
    {
     "name": "stdout",
     "output_type": "stream",
     "text": [
      "      Word1       Word2    Rating\n",
      "0     prime    minister  7.808954\n",
      "1   eastern      europe  7.373304\n",
      "2     speak   condition  7.162189\n",
      "3   michael     dukakis  6.904538\n",
      "4  exchange       index  6.895922\n",
      "5     human       right  6.885043\n",
      "6      west      german  6.857743\n",
      "7     value       index  6.829709\n",
      "8      news  conference  6.802911\n",
      "9     radio     station  6.719174\n"
     ]
    }
   ],
   "source": [
    "print pd.DataFrame([(w1,w2,r) for ((w1,w2),r) in scores[:10]], columns=[\"Word1\",\"Word2\",\"Rating\"])"
   ]
  },
  {
   "cell_type": "markdown",
   "metadata": {},
   "source": [
    "## 2 -  Informacion Lexica\n",
    "Bajar de Project Gutenberg el libro de Darwin ON THE ORIGIN OF SPECIES.\n",
    "\n",
    "**2.1 Procesar el texto, tokenizando eliminando signos de puntuacion.**"
   ]
  },
  {
   "cell_type": "code",
   "execution_count": 10,
   "metadata": {
    "collapsed": true
   },
   "outputs": [],
   "source": [
    "origin_txt = open('data/origin.txt').read()\n",
    "origin_txt = beautify(word_normalize(origin_txt))"
   ]
  },
  {
   "cell_type": "code",
   "execution_count": 11,
   "metadata": {
    "collapsed": false
   },
   "outputs": [
    {
     "name": "stdout",
     "output_type": "stream",
     "text": [
      "['origin', 'specie', 'introduction', 'board', 'hm', 'beagle', 'naturalist', 'i', 'be', 'much', 'struck', 'certain', 'fact', 'distribution', 'organic', 'being', 'inhabit', 'south', 'america', 'geological', 'relation', 'present', 'past', 'inhabitant', 'continent', 'fact', 'be', 'see', 'latter', 'chapter', 'volume', 'seem', 'throw', 'light', 'origin', 'speciesthat', 'mystery', 'mystery', 'have', 'be', 'call', 'great', 'philosopher', 'return', 'home', 'occur', 'something', 'perhaps', 'be', 'make']\n"
     ]
    }
   ],
   "source": [
    "print origin_txt[0:50]"
   ]
  },
  {
   "cell_type": "markdown",
   "metadata": {},
   "source": [
    "**2.2 Siguiendo el artıculo de la seccion, calcular la autocorrelacion para estimar la distribucion de la palabra a lo largo del texto.**"
   ]
  },
  {
   "cell_type": "code",
   "execution_count": 12,
   "metadata": {
    "collapsed": true
   },
   "outputs": [],
   "source": [
    "def gaussian_kernel(t,sigma):\n",
    "    return scipy.stats.norm.pdf(t, 0.0, sigma) #(np.e**(-t*t/(2*sigma*sigma)))/(math.sqrt(2*pi)*sigma)\n",
    "\n",
    "def rate_of_occurence(points_of_interest, word_positions):\n",
    "    return [sum([gaussian_kernel(t-x,50.0) for x in nsmallest(100, word_positions, key=lambda x: abs(x-t))[::2]]) for t in points_of_interest]"
   ]
  },
  {
   "cell_type": "markdown",
   "metadata": {},
   "source": [
    "Vamos a testear las funciones para las palabras \"instinct\" \"be\" y \"plant\":"
   ]
  },
  {
   "cell_type": "code",
   "execution_count": 20,
   "metadata": {
    "collapsed": false
   },
   "outputs": [],
   "source": [
    "def calculate_word_occurs(txt):\n",
    "    occurs = dict()\n",
    "    for i in range(len(txt)):\n",
    "        word = txt[i]\n",
    "        if (word in example_words):\n",
    "            occurs[word] = occurs.get(word,[]) + [i]\n",
    "    return occurs\n",
    "\n",
    "example_words = [\"instinct\", \"be\", \"plant\"]\n",
    "example_word_occurs = calculate_word_occurs(origin_txt)\n",
    "N = len(origin_txt)"
   ]
  },
  {
   "cell_type": "code",
   "execution_count": 21,
   "metadata": {
    "collapsed": false
   },
   "outputs": [],
   "source": [
    "POINT_STEP = 150\n",
    "points_of_interest = range(0,N,POINT_STEP)\n",
    "example_word_rates = dict()\n",
    "for word in example_words:\n",
    "    example_word_rates[word] = rate_of_occurence(points_of_interest, example_word_occurs[word]) #[rate_of_occurence(i,example_word_occurs[word]) for i in points_of_interest]"
   ]
  },
  {
   "cell_type": "code",
   "execution_count": 23,
   "metadata": {
    "collapsed": false
   },
   "outputs": [],
   "source": [
    "rate_df = dict()\n",
    "for word in example_words:\n",
    "    rate_df[word] = pd.DataFrame(example_word_rates[word], columns=['Rate'], index=points_of_interest)"
   ]
  },
  {
   "cell_type": "markdown",
   "metadata": {},
   "source": [
    "Graficamos el 'rate of occurence' de la palabra 'instinct':"
   ]
  },
  {
   "cell_type": "code",
   "execution_count": 25,
   "metadata": {
    "collapsed": false,
    "scrolled": true
   },
   "outputs": [
    {
     "data": {
      "image/png": "[encoded data removed]",
      "text/plain": [
       "<matplotlib.figure.Figure at 0x125682b10>"
      ]
     },
     "metadata": {},
     "output_type": "display_data"
    },
    {
     "data": {
      "image/png": "[encoded data removed]",
      "text/plain": [
       "<matplotlib.figure.Figure at 0x11fe550d0>"
      ]
     },
     "metadata": {},
     "output_type": "display_data"
    },
    {
     "data": {
      "image/png": "[encoded data removed]",
      "text/plain": [
       "<matplotlib.figure.Figure at 0x11cbd5850>"
      ]
     },
     "metadata": {},
     "output_type": "display_data"
    }
   ],
   "source": [
    "for word in example_words:\n",
    "    ax = rate_df[word].plot()\n",
    "    ax.set_title(\"Rate of occurence '{0}'\".format(word))\n",
    "    ax.set_xlabel(\"Text position\")\n",
    "    ax.set_ylabel(\"Rate\")\n",
    "    plt.show()"
   ]
  },
  {
   "cell_type": "code",
   "execution_count": 27,
   "metadata": {
    "collapsed": true
   },
   "outputs": [],
   "source": [
    "def autocorrelation(points,word_positions,rates):\n",
    "    n = len(points)\n",
    "    sum_rate = sum(rates)\n",
    "    sum_sq_rate = sum([r*r for r in rates])\n",
    "    denom = (sum_sq_rate / n) - (sum_rate / n) * (sum_rate / n)\n",
    "    rates_off = rate_of_occurence(range(N,N+10000,POINT_STEP), word_positions)\n",
    "    rates_tau = rates\n",
    "    autocorr = []\n",
    "    sum_rates = sum(rates)\n",
    "    sum_rates_tau = sum_rates\n",
    "    for rate in rates_off:\n",
    "        sum_comp_rates = sum([rates[i] * rates_tau[i] for i in range(len(rates))])\n",
    "        autocorr.append((sum_comp_rates / n - (sum_rates / n) * (sum_rates_tau / n)) / denom)\n",
    "        sum_rates_tau = sum_rates_tau - rates_tau[0] + rate\n",
    "        rates_tau = rates_tau[1:]\n",
    "        rates_tau.append(rate)\n",
    "    return autocorr"
   ]
  },
  {
   "cell_type": "markdown",
   "metadata": {},
   "source": [
    "Se calcula la autocorrelacion de 'instinct' en el texto:"
   ]
  },
  {
   "cell_type": "code",
   "execution_count": 28,
   "metadata": {
    "collapsed": false
   },
   "outputs": [],
   "source": [
    "autocorr = dict()\n",
    "for word in example_words:\n",
    "    autocorr[word] = autocorrelation(points_of_interest, example_word_occurs[word], example_word_rates[word])"
   ]
  },
  {
   "cell_type": "markdown",
   "metadata": {},
   "source": [
    "Se hace un random shuffle del texto y se vuelve a calcular la autocorrelacion de 'instinct':"
   ]
  },
  {
   "cell_type": "code",
   "execution_count": 29,
   "metadata": {
    "collapsed": true
   },
   "outputs": [],
   "source": [
    "random_txt = origin_txt[:]\n",
    "random.shuffle(random_txt)"
   ]
  },
  {
   "cell_type": "code",
   "execution_count": 30,
   "metadata": {
    "collapsed": true
   },
   "outputs": [],
   "source": [
    "random_word_occurs = calculate_word_occurs(random_txt)\n",
    "random_word_rates = dict()\n",
    "for word in example_words:\n",
    "    random_word_rates[word] = rate_of_occurence(points_of_interest, random_word_occurs[word])"
   ]
  },
  {
   "cell_type": "code",
   "execution_count": 31,
   "metadata": {
    "collapsed": true
   },
   "outputs": [],
   "source": [
    "random_autocorr = dict()\n",
    "for word in example_words:\n",
    "    random_autocorr[word] = autocorrelation(points_of_interest, random_word_occurs[word], random_word_rates[word])"
   ]
  },
  {
   "cell_type": "markdown",
   "metadata": {},
   "source": [
    "Se grafica la autocorrelacion de 'instinct' comparandolo con el caso en que el texto se randomiza:"
   ]
  },
  {
   "cell_type": "code",
   "execution_count": 33,
   "metadata": {
    "collapsed": false
   },
   "outputs": [
    {
     "data": {
      "image/png": "[encoded data removed]",
      "text/plain": [
       "<matplotlib.figure.Figure at 0x123ff2450>"
      ]
     },
     "metadata": {},
     "output_type": "display_data"
    },
    {
     "data": {
      "image/png": "[encoded data removed]",
      "text/plain": [
       "<matplotlib.figure.Figure at 0x123922c50>"
      ]
     },
     "metadata": {},
     "output_type": "display_data"
    },
    {
     "data": {
      "image/png": "[encoded data removed]",
      "text/plain": [
       "<matplotlib.figure.Figure at 0x11e879c50>"
      ]
     },
     "metadata": {},
     "output_type": "display_data"
    }
   ],
   "source": [
    "for word in example_words:\n",
    "    autocorr_df = pd.DataFrame(zip(autocorr[word],random_autocorr[word]), columns=['Autocorrelation','Random Autocorrelation'], index=range(0,10000,POINT_STEP))\n",
    "    ax = autocorr_df.plot()\n",
    "    ax.set_title(\"Autocorrelation of '{0}'\".format(word))\n",
    "    ax.set_xlabel(\"Tau\")\n",
    "    ax.set_ylabel(\"Autocorrelation\")\n",
    "    plt.show()"
   ]
  },
  {
   "cell_type": "markdown",
   "metadata": {},
   "source": [
    "Como podemos ver, la palabra mas comun \"be\", es la que tiene la autocorrelacion mas parecida en el texto comparado a su version random.\n",
    "\n",
    "La palabra \"plant\" podemos ver en el grafico de \"Rates of occurence\" que esta mas esparcida por el texto y eso hace que la autocorrelacion luego difiera mas de la version random del texto.\n",
    "\n",
    "Finalmente, \"instinct\", que como vemos en el grafico de \"Rates of occurence\" que es la mas \"rara\" en su distribucion por el texto, es la que mas tarda en converger a su \"Autocorrelacion random\"."
   ]
  },
  {
   "cell_type": "markdown",
   "metadata": {},
   "source": [
    "**2.3 Calcular la entropia de una seleccion de 100 palabras que abarquen el rango de frecuencia de aparicion en el libro, es decir elegir palabras que son muy frecuentes y otras de baja frecuencia.**"
   ]
  },
  {
   "cell_type": "code",
   "execution_count": 476,
   "metadata": {
    "collapsed": false
   },
   "outputs": [
    {
     "name": "stdout",
     "output_type": "stream",
     "text": [
      "Se divide el texto de 109406 palabras en 64 partes de (excepto la ultima) 1710 palabras.\n"
     ]
    }
   ],
   "source": [
    "N = len(origin_txt)\n",
    "P = 64\n",
    "n = int(math.ceil(float(N)/P))\n",
    "print \"Se divide el texto de \" + str(N) + \" palabras en \" + str(P) + \" partes de (excepto la ultima) \" + str(n) + \" palabras.\"\n",
    "\n",
    "def calculate_freqs_by_parts(txt):\n",
    "    origin_freq_vocab = dict()\n",
    "    origin_freq_vocab_by_part = dict()\n",
    "    for i in range(len(txt)):\n",
    "        word = txt[i]\n",
    "        part = i / n\n",
    "        origin_freq_vocab[word] = origin_freq_vocab.get(word, 0) + 1\n",
    "        origin_freq_vocab_by_part[word] = origin_freq_vocab_by_part.get(word, dict())\n",
    "        origin_freq_vocab_by_part[word][part] = origin_freq_vocab_by_part[word].get(part, 0) + 1\n",
    "    return origin_freq_vocab, origin_freq_vocab_by_part\n",
    "\n",
    "origin_freq_vocab, origin_freq_vocab_by_part = calculate_freqs_by_parts(origin_txt)"
   ]
  },
  {
   "cell_type": "code",
   "execution_count": 506,
   "metadata": {
    "collapsed": false
   },
   "outputs": [
    {
     "name": "stdout",
     "output_type": "stream",
     "text": [
      "Se toman 100 palabras que abarcan el rango de frecuencias.\n"
     ]
    }
   ],
   "source": [
    "origin_sorted_freqs = sorted(origin_freq_vocab.iteritems(), key=operator.itemgetter(1), reverse=True)\n",
    "origin_max_freq_vocab = [k for k,freq in origin_sorted_freqs]\n",
    "origin_max_freq_vocab = origin_max_freq_vocab[5:35]+origin_max_freq_vocab[100:4000:65]+origin_max_freq_vocab[-10:]\n",
    "print \"Se toman \" + str(len(origin_max_freq_vocab)) + \" palabras que abarcan el rango de frecuencias.\""
   ]
  },
  {
   "cell_type": "markdown",
   "metadata": {},
   "source": [
    "Se calcula su entropia"
   ]
  },
  {
   "cell_type": "code",
   "execution_count": 512,
   "metadata": {
    "collapsed": true
   },
   "outputs": [],
   "source": [
    "def calculate_entropies(words, freqs, freqs_by_part):\n",
    "    entropies = []\n",
    "    for word in words:\n",
    "        freq = freqs[word]\n",
    "        entropy = -sum([(0 if freqs_by_part[word].get(part,0)<=0 else math.log(freqs_by_part[word].get(part,0)/float(n),2)*freqs_by_part[word].get(part,0)/float(n)) for part in range(P)])\n",
    "        entropies.append((freq,entropy))\n",
    "    return entropies\n",
    "\n",
    "entropies = calculate_entropies(origin_max_freq_vocab, origin_freq_vocab, origin_freq_vocab_by_part)\n",
    "entropies.sort()"
   ]
  },
  {
   "cell_type": "code",
   "execution_count": 513,
   "metadata": {
    "collapsed": true
   },
   "outputs": [],
   "source": [
    "entropies_df = pd.DataFrame(entropies, columns=[\"Frecuency\",\"Entropy\"])#[e for f,e in entropies], columns=[\"Entropy\"], index=[f for f,e in entropies])"
   ]
  },
  {
   "cell_type": "markdown",
   "metadata": {},
   "source": [
    "Se grafica la entropia"
   ]
  },
  {
   "cell_type": "code",
   "execution_count": 514,
   "metadata": {
    "collapsed": false
   },
   "outputs": [
    {
     "data": {
      "image/png": "[encoded data removed]",
      "text/plain": [
       "<matplotlib.figure.Figure at 0x1312eb1d0>"
      ]
     },
     "metadata": {},
     "output_type": "display_data"
    }
   ],
   "source": [
    "entropies_df.plot.scatter(x=\"Frecuency\",y=\"Entropy\")\n",
    "plt.show()"
   ]
  },
  {
   "cell_type": "markdown",
   "metadata": {},
   "source": [
    "**2.4 Calcular la entropia de las palabras seleccionadas anteriormente, randomizando su posicion en el texto. Comparar con los resultados del punto anterior.**"
   ]
  },
  {
   "cell_type": "code",
   "execution_count": 523,
   "metadata": {
    "collapsed": true
   },
   "outputs": [],
   "source": [
    "random_freq_vocab, random_freq_vocab_by_part = calculate_freqs_by_parts(random_txt)\n",
    "random_entropies = calculate_entropies(origin_max_freq_vocab, random_freq_vocab, random_freq_vocab_by_part)\n",
    "random_entropies.sort()"
   ]
  },
  {
   "cell_type": "code",
   "execution_count": 524,
   "metadata": {
    "collapsed": true
   },
   "outputs": [],
   "source": [
    "random_entropies_df = pd.DataFrame(random_entropies, columns=[\"Frecuency\",\"Entropy\"])"
   ]
  },
  {
   "cell_type": "code",
   "execution_count": 525,
   "metadata": {
    "collapsed": false
   },
   "outputs": [
    {
     "data": {
      "image/png": "[encoded data removed]",
      "text/plain": [
       "<matplotlib.figure.Figure at 0x1314ed5d0>"
      ]
     },
     "metadata": {},
     "output_type": "display_data"
    }
   ],
   "source": [
    "ax = entropies_df.plot.scatter(x=\"Frecuency\", y=\"Entropy\", color='Blue', label='Entropy')\n",
    "ax = random_entropies_df.plot.scatter(x=\"Frecuency\", y=\"Entropy\", color='Green', label='Random Entropy', ax=ax)\n",
    "plt.show()"
   ]
  },
  {
   "cell_type": "markdown",
   "metadata": {},
   "source": [
    "Podemos observar que las entropias del texto en la version random son mayores que en el texto original, tal como los papers provistos por la catedra ejemplificaban. Adicionalmente, se puede ver que las palabras con muchas apariciones tienen una entropia promedio mucho mayor que las que tienen pocas apariciones."
   ]
  },
  {
   "cell_type": "markdown",
   "metadata": {},
   "source": [
    "## 3 - Word embeddings, distancia semantica y Word-Net\n",
    "**3.1 Utilizando el test WordSim3531, comparar el rendimiento entre LSA[3] y Word2Vec2 [4].**"
   ]
  },
  {
   "cell_type": "markdown",
   "metadata": {},
   "source": [
    "Carga de datos corpus"
   ]
  },
  {
   "cell_type": "code",
   "execution_count": 34,
   "metadata": {
    "collapsed": true
   },
   "outputs": [],
   "source": [
    "tasa_data = open('data/tasa.txt').read().split('[DOC]')[1:]"
   ]
  },
  {
   "cell_type": "markdown",
   "metadata": {},
   "source": [
    "Tokenizar datos corpus tomando uno de cada 8"
   ]
  },
  {
   "cell_type": "code",
   "execution_count": 35,
   "metadata": {
    "collapsed": true
   },
   "outputs": [],
   "source": [
    "tasa_data = [beautify(word_normalize(doc)) for doc in tasa_data[::8]]"
   ]
  },
  {
   "cell_type": "code",
   "execution_count": 36,
   "metadata": {
    "collapsed": false
   },
   "outputs": [
    {
     "name": "stdout",
     "output_type": "stream",
     "text": [
      "Se tiene un corpus de 4707 documentos tokenizados.\n"
     ]
    }
   ],
   "source": [
    "print \"Se tiene un corpus de \" + str(len(tasa_data)) + \" documentos tokenizados.\""
   ]
  },
  {
   "cell_type": "markdown",
   "metadata": {},
   "source": [
    "Eliminamos las palabras que solo aparecen una vez"
   ]
  },
  {
   "cell_type": "code",
   "execution_count": 37,
   "metadata": {
    "collapsed": true
   },
   "outputs": [],
   "source": [
    "tasa_freqs = dict()\n",
    "for doc in tasa_data:\n",
    "    for word in doc:\n",
    "        tasa_freqs[word] = tasa_freqs.get(word, 0) + 1\n",
    "tasa_data = [[word for word in text if tasa_freqs[word] != 1] for text in tasa_data]"
   ]
  },
  {
   "cell_type": "markdown",
   "metadata": {},
   "source": [
    "Pasamos el corpus a Gensim"
   ]
  },
  {
   "cell_type": "code",
   "execution_count": 38,
   "metadata": {
    "collapsed": true
   },
   "outputs": [],
   "source": [
    "dictionary = corpora.Dictionary(tasa_data)\n",
    "corpus = [dictionary.doc2bow(doc) for doc in tasa_data]"
   ]
  },
  {
   "cell_type": "markdown",
   "metadata": {},
   "source": [
    "Grabamos y traemos el diccionario y el corpus"
   ]
  },
  {
   "cell_type": "code",
   "execution_count": 39,
   "metadata": {
    "collapsed": true
   },
   "outputs": [],
   "source": [
    "# corpora.MmCorpus.serialize('data/tasa.mm', corpus)\n",
    "# dictionary.save('data/tasa.dict')"
   ]
  },
  {
   "cell_type": "code",
   "execution_count": 40,
   "metadata": {
    "collapsed": true
   },
   "outputs": [],
   "source": [
    "corpus = corpora.MmCorpus('data/tasa.mm')\n",
    "dictionary = corpora.Dictionary.load('data/tasa.dict')"
   ]
  },
  {
   "cell_type": "markdown",
   "metadata": {},
   "source": [
    "Entrenamos LSA y Word2Vec\n",
    "\n",
    "**Nota**: consideramos que es una comparacion injusta la de LSA entrenado por nosotros vs. Word2Vec entrenado por los vectores predefinidos por Google, asi que decidimos entrenar Word2Vec nosotros para una comparacion mas justa."
   ]
  },
  {
   "cell_type": "code",
   "execution_count": 41,
   "metadata": {
    "collapsed": true
   },
   "outputs": [],
   "source": [
    "lsi = models.LsiModel(corpus, id2word=dictionary, num_topics=300)"
   ]
  },
  {
   "cell_type": "code",
   "execution_count": 42,
   "metadata": {
    "collapsed": true
   },
   "outputs": [],
   "source": [
    "wordsim = open('data/wordsim_similarity_goldstandard.txt').read()\n",
    "word2vec = models.Word2Vec(tasa_data, size=100, window=10, min_count=5, workers=4)"
   ]
  },
  {
   "cell_type": "markdown",
   "metadata": {},
   "source": [
    "Comparamos rendimiento de los algoritmos segun WordSim3531"
   ]
  },
  {
   "cell_type": "code",
   "execution_count": 43,
   "metadata": {
    "collapsed": true
   },
   "outputs": [],
   "source": [
    "def lsa_similarity(w1, w2):\n",
    "    return (matutils.cossim(lsi[dictionary.doc2bow([w1])], lsi[dictionary.doc2bow([w2])])+1) / 2 * 10\n",
    "\n",
    "def word2vec_similarity(w1, w2):\n",
    "    return word2vec.wv.similarity(w1, w2) * 10\n",
    "\n",
    "def error_histogram(result, title):\n",
    "    lsa_rating_error = [ abs(lv-v) for v,lv,wv in result]\n",
    "    w2v_rating_error = [ abs(wv-v) for v,lv,wv in result]\n",
    "\n",
    "    plt.hist(lsa_rating_error, label=\"LSI\", alpha=0.7, color='red')\n",
    "    plt.hist(w2v_rating_error, label=\"Word2Vec\", alpha=0.7)\n",
    "    plt.title('Histograma de errores respecto a '+  title)\n",
    "    plt.legend()\n",
    "    plt.show()"
   ]
  },
  {
   "cell_type": "code",
   "execution_count": 44,
   "metadata": {
    "collapsed": true
   },
   "outputs": [],
   "source": [
    "results = [sentence.split(\" \") for sentence in wordsim.splitlines()]\n",
    "results = [[w1,w2,float(v),float('%.2f'%(lsa_similarity(w1,w2))),float('%.2f'%(word2vec_similarity(w1,w2)))] for w1,w2,v in results if (tasa_freqs.get(w1,0) > 1 and tasa_freqs.get(w2,0) > 1 and w1 in word2vec.wv.vocab and w2 in word2vec.wv.vocab)]"
   ]
  },
  {
   "cell_type": "markdown",
   "metadata": {},
   "source": [
    "Tabla ratings comparado a WordSim3531 para cada par de palabras"
   ]
  },
  {
   "cell_type": "code",
   "execution_count": 45,
   "metadata": {
    "collapsed": false
   },
   "outputs": [
    {
     "data": {
      "text/html": [
       "<div>\n",
       "<style>\n",
       "    .dataframe thead tr:only-child th {\n",
       "        text-align: right;\n",
       "    }\n",
       "\n",
       "    .dataframe thead th {\n",
       "        text-align: left;\n",
       "    }\n",
       "\n",
       "    .dataframe tbody tr th {\n",
       "        vertical-align: top;\n",
       "    }\n",
       "</style>\n",
       "<table border=\"1\" class=\"dataframe\">\n",
       "  <thead>\n",
       "    <tr style=\"text-align: right;\">\n",
       "      <th></th>\n",
       "      <th>Word1</th>\n",
       "      <th>Word2</th>\n",
       "      <th>WordSim3531 Rating</th>\n",
       "      <th>LSA Rating</th>\n",
       "      <th>Word2Vec Rating</th>\n",
       "    </tr>\n",
       "  </thead>\n",
       "  <tbody>\n",
       "    <tr>\n",
       "      <th>0</th>\n",
       "      <td>tiger</td>\n",
       "      <td>cat</td>\n",
       "      <td>7.35</td>\n",
       "      <td>5.98</td>\n",
       "      <td>8.91</td>\n",
       "    </tr>\n",
       "    <tr>\n",
       "      <th>1</th>\n",
       "      <td>tiger</td>\n",
       "      <td>tiger</td>\n",
       "      <td>10.00</td>\n",
       "      <td>10.00</td>\n",
       "      <td>10.00</td>\n",
       "    </tr>\n",
       "    <tr>\n",
       "      <th>2</th>\n",
       "      <td>plane</td>\n",
       "      <td>car</td>\n",
       "      <td>5.77</td>\n",
       "      <td>4.87</td>\n",
       "      <td>6.16</td>\n",
       "    </tr>\n",
       "    <tr>\n",
       "      <th>3</th>\n",
       "      <td>train</td>\n",
       "      <td>car</td>\n",
       "      <td>6.31</td>\n",
       "      <td>5.27</td>\n",
       "      <td>6.75</td>\n",
       "    </tr>\n",
       "    <tr>\n",
       "      <th>4</th>\n",
       "      <td>television</td>\n",
       "      <td>radio</td>\n",
       "      <td>6.77</td>\n",
       "      <td>8.01</td>\n",
       "      <td>9.41</td>\n",
       "    </tr>\n",
       "    <tr>\n",
       "      <th>5</th>\n",
       "      <td>bread</td>\n",
       "      <td>butter</td>\n",
       "      <td>6.19</td>\n",
       "      <td>6.28</td>\n",
       "      <td>9.15</td>\n",
       "    </tr>\n",
       "    <tr>\n",
       "      <th>6</th>\n",
       "      <td>doctor</td>\n",
       "      <td>nurse</td>\n",
       "      <td>7.00</td>\n",
       "      <td>6.20</td>\n",
       "      <td>8.79</td>\n",
       "    </tr>\n",
       "    <tr>\n",
       "      <th>7</th>\n",
       "      <td>professor</td>\n",
       "      <td>doctor</td>\n",
       "      <td>6.62</td>\n",
       "      <td>5.52</td>\n",
       "      <td>7.00</td>\n",
       "    </tr>\n",
       "    <tr>\n",
       "      <th>8</th>\n",
       "      <td>student</td>\n",
       "      <td>professor</td>\n",
       "      <td>6.81</td>\n",
       "      <td>5.19</td>\n",
       "      <td>5.94</td>\n",
       "    </tr>\n",
       "    <tr>\n",
       "      <th>9</th>\n",
       "      <td>smart</td>\n",
       "      <td>stupid</td>\n",
       "      <td>5.81</td>\n",
       "      <td>5.08</td>\n",
       "      <td>9.59</td>\n",
       "    </tr>\n",
       "  </tbody>\n",
       "</table>\n",
       "</div>"
      ],
      "text/plain": [
       "        Word1      Word2  WordSim3531 Rating  LSA Rating  Word2Vec Rating\n",
       "0       tiger        cat                7.35        5.98             8.91\n",
       "1       tiger      tiger               10.00       10.00            10.00\n",
       "2       plane        car                5.77        4.87             6.16\n",
       "3       train        car                6.31        5.27             6.75\n",
       "4  television      radio                6.77        8.01             9.41\n",
       "5       bread     butter                6.19        6.28             9.15\n",
       "6      doctor      nurse                7.00        6.20             8.79\n",
       "7   professor     doctor                6.62        5.52             7.00\n",
       "8     student  professor                6.81        5.19             5.94\n",
       "9       smart     stupid                5.81        5.08             9.59"
      ]
     },
     "execution_count": 45,
     "metadata": {},
     "output_type": "execute_result"
    }
   ],
   "source": [
    "results_df = pd.DataFrame(results, columns=[\"Word1\",\"Word2\",\"WordSim3531 Rating\",\"LSA Rating\",\"Word2Vec Rating\"])\n",
    "results_df[:10]"
   ]
  },
  {
   "cell_type": "code",
   "execution_count": 46,
   "metadata": {
    "collapsed": false
   },
   "outputs": [
    {
     "data": {
      "image/png": "[encoded data removed]",
      "text/plain": [
       "<matplotlib.figure.Figure at 0x125f79e10>"
      ]
     },
     "metadata": {},
     "output_type": "display_data"
    }
   ],
   "source": [
    "results_wordsim = [[v,lv,wv] for w1,w2,v,lv,wv in results]\n",
    "error_histogram(results_wordsim, \"WordSim3531\")"
   ]
  },
  {
   "cell_type": "markdown",
   "metadata": {},
   "source": [
    "Grafico de errores de rating para todas las palabras.\n",
    "\n",
    "Observamos que LSI es superior a Word2Vec al compararlo con WordSim3531.\n",
    "Hay que tener en cuenta que ambas fueron entrenadas con el mismo corpus."
   ]
  },
  {
   "cell_type": "markdown",
   "metadata": {},
   "source": [
    "Ahora, fijando la palabra 'tiger', hacemos el analisis de errores para cada palabra con respecto a esta"
   ]
  },
  {
   "cell_type": "code",
   "execution_count": 47,
   "metadata": {
    "collapsed": false
   },
   "outputs": [
    {
     "name": "stdout",
     "output_type": "stream",
     "text": [
      "   Word1     Word2  WordSim3531 Rating  LSA Rating  Word2Vec Rating\n",
      "0  tiger       cat                7.35        5.98             8.91\n",
      "1  tiger     tiger               10.00       10.00            10.00\n",
      "2  tiger    mammal                6.85        5.06             5.40\n",
      "3  tiger    animal                7.00        5.02             3.53\n",
      "4  tiger  organism                4.77        5.42             0.74\n"
     ]
    }
   ],
   "source": [
    "results_tiger = [[w1,w2,v,lsav,w2v] for w1,w2,v,lsav,w2v in results if w1=='tiger']\n",
    "print pd.DataFrame(results_tiger, columns=[\"Word1\",\"Word2\",\"WordSim3531 Rating\",\"LSA Rating\",\"Word2Vec Rating\"])"
   ]
  },
  {
   "cell_type": "markdown",
   "metadata": {},
   "source": [
    "**3.2 Comparar los distintos word embeddings con las medidas definidas en WordNet.**\n",
    "\n",
    "Tomamos la medida de wup_similarity"
   ]
  },
  {
   "cell_type": "code",
   "execution_count": 48,
   "metadata": {
    "collapsed": true
   },
   "outputs": [],
   "source": [
    "# ic = nltk.corpus.wordnet_ic.ic('ic-brown.dat')\n",
    "def wordnet_noun_wup_similarity(w1,w2):\n",
    "    sim = 0.0\n",
    "    for n1 in wordnet.synsets(w1, pos=wordnet.NOUN):\n",
    "        for n2 in wordnet.synsets(w2, pos=wordnet.NOUN):\n",
    "            if '\\'%s.'%w1 in str(n1) and '\\'%s.'%w2 in str(n2):\n",
    "                sim = max(n1.wup_similarity(n2), sim)\n",
    "    return sim * 10"
   ]
  },
  {
   "cell_type": "code",
   "execution_count": 50,
   "metadata": {
    "collapsed": false
   },
   "outputs": [],
   "source": [
    "results_wordnet = [[w1,w2,lsav,w2v,float('%.2f'%wordnet_noun_wup_similarity(w1,w2))] for w1,w2,v,lsav,w2v in results]"
   ]
  },
  {
   "cell_type": "markdown",
   "metadata": {},
   "source": [
    "Tabla de ratings con WordNet wup similarity, utilizando las palabras de WordSim3531"
   ]
  },
  {
   "cell_type": "code",
   "execution_count": 51,
   "metadata": {
    "collapsed": false
   },
   "outputs": [
    {
     "data": {
      "text/html": [
       "<div>\n",
       "<style>\n",
       "    .dataframe thead tr:only-child th {\n",
       "        text-align: right;\n",
       "    }\n",
       "\n",
       "    .dataframe thead th {\n",
       "        text-align: left;\n",
       "    }\n",
       "\n",
       "    .dataframe tbody tr th {\n",
       "        vertical-align: top;\n",
       "    }\n",
       "</style>\n",
       "<table border=\"1\" class=\"dataframe\">\n",
       "  <thead>\n",
       "    <tr style=\"text-align: right;\">\n",
       "      <th></th>\n",
       "      <th>Word1</th>\n",
       "      <th>Word2</th>\n",
       "      <th>LSA Rating</th>\n",
       "      <th>Word2Vec Rating</th>\n",
       "      <th>WordNet Rating</th>\n",
       "    </tr>\n",
       "  </thead>\n",
       "  <tbody>\n",
       "    <tr>\n",
       "      <th>0</th>\n",
       "      <td>tiger</td>\n",
       "      <td>cat</td>\n",
       "      <td>5.98</td>\n",
       "      <td>8.91</td>\n",
       "      <td>8.97</td>\n",
       "    </tr>\n",
       "    <tr>\n",
       "      <th>1</th>\n",
       "      <td>tiger</td>\n",
       "      <td>tiger</td>\n",
       "      <td>10.00</td>\n",
       "      <td>10.00</td>\n",
       "      <td>10.00</td>\n",
       "    </tr>\n",
       "    <tr>\n",
       "      <th>2</th>\n",
       "      <td>plane</td>\n",
       "      <td>car</td>\n",
       "      <td>4.87</td>\n",
       "      <td>6.16</td>\n",
       "      <td>6.32</td>\n",
       "    </tr>\n",
       "    <tr>\n",
       "      <th>3</th>\n",
       "      <td>train</td>\n",
       "      <td>car</td>\n",
       "      <td>5.27</td>\n",
       "      <td>6.75</td>\n",
       "      <td>7.37</td>\n",
       "    </tr>\n",
       "    <tr>\n",
       "      <th>4</th>\n",
       "      <td>television</td>\n",
       "      <td>radio</td>\n",
       "      <td>8.01</td>\n",
       "      <td>9.41</td>\n",
       "      <td>9.00</td>\n",
       "    </tr>\n",
       "    <tr>\n",
       "      <th>5</th>\n",
       "      <td>bread</td>\n",
       "      <td>butter</td>\n",
       "      <td>6.28</td>\n",
       "      <td>9.15</td>\n",
       "      <td>7.50</td>\n",
       "    </tr>\n",
       "    <tr>\n",
       "      <th>6</th>\n",
       "      <td>doctor</td>\n",
       "      <td>nurse</td>\n",
       "      <td>6.20</td>\n",
       "      <td>8.79</td>\n",
       "      <td>8.70</td>\n",
       "    </tr>\n",
       "    <tr>\n",
       "      <th>7</th>\n",
       "      <td>professor</td>\n",
       "      <td>doctor</td>\n",
       "      <td>5.52</td>\n",
       "      <td>7.00</td>\n",
       "      <td>5.45</td>\n",
       "    </tr>\n",
       "    <tr>\n",
       "      <th>8</th>\n",
       "      <td>student</td>\n",
       "      <td>professor</td>\n",
       "      <td>5.19</td>\n",
       "      <td>5.94</td>\n",
       "      <td>5.71</td>\n",
       "    </tr>\n",
       "    <tr>\n",
       "      <th>9</th>\n",
       "      <td>smart</td>\n",
       "      <td>stupid</td>\n",
       "      <td>5.08</td>\n",
       "      <td>9.59</td>\n",
       "      <td>1.33</td>\n",
       "    </tr>\n",
       "  </tbody>\n",
       "</table>\n",
       "</div>"
      ],
      "text/plain": [
       "        Word1      Word2  LSA Rating  Word2Vec Rating  WordNet Rating\n",
       "0       tiger        cat        5.98             8.91            8.97\n",
       "1       tiger      tiger       10.00            10.00           10.00\n",
       "2       plane        car        4.87             6.16            6.32\n",
       "3       train        car        5.27             6.75            7.37\n",
       "4  television      radio        8.01             9.41            9.00\n",
       "5       bread     butter        6.28             9.15            7.50\n",
       "6      doctor      nurse        6.20             8.79            8.70\n",
       "7   professor     doctor        5.52             7.00            5.45\n",
       "8     student  professor        5.19             5.94            5.71\n",
       "9       smart     stupid        5.08             9.59            1.33"
      ]
     },
     "execution_count": 51,
     "metadata": {},
     "output_type": "execute_result"
    }
   ],
   "source": [
    "results_wordnet_df = pd.DataFrame(results_wordnet, columns=[\"Word1\",\"Word2\",\"LSA Rating\",\"Word2Vec Rating\",\"WordNet Rating\"])\n",
    "results_wordnet_df[:10]"
   ]
  },
  {
   "cell_type": "markdown",
   "metadata": {},
   "source": [
    "Grafico de errores de rating para WordNet"
   ]
  },
  {
   "cell_type": "code",
   "execution_count": 53,
   "metadata": {
    "collapsed": false
   },
   "outputs": [
    {
     "data": {
      "image/png": "[encoded data removed]",
      "text/plain": [
       "<matplotlib.figure.Figure at 0x1265c1750>"
      ]
     },
     "metadata": {},
     "output_type": "display_data"
    }
   ],
   "source": [
    "results_wordsim = [[v,lv,wv] for w1,w2,lv,wv,v in results_wordnet]\n",
    "error_histogram(results_wordsim, \"WordNet\")"
   ]
  },
  {
   "cell_type": "markdown",
   "metadata": {},
   "source": [
    "Como podemos ver, LSI parece seguir teniendo mejor performance que Word2Vec aun a partir del criterio de WordNet con WUP Similarity."
   ]
  },
  {
   "cell_type": "markdown",
   "metadata": {},
   "source": [
    "Ahora, fijando la palabra 'tiger', hacemos el analisis de errores para cada palabra con respecto a esta"
   ]
  },
  {
   "cell_type": "code",
   "execution_count": 54,
   "metadata": {
    "collapsed": false
   },
   "outputs": [
    {
     "data": {
      "text/html": [
       "<div>\n",
       "<style>\n",
       "    .dataframe thead tr:only-child th {\n",
       "        text-align: right;\n",
       "    }\n",
       "\n",
       "    .dataframe thead th {\n",
       "        text-align: left;\n",
       "    }\n",
       "\n",
       "    .dataframe tbody tr th {\n",
       "        vertical-align: top;\n",
       "    }\n",
       "</style>\n",
       "<table border=\"1\" class=\"dataframe\">\n",
       "  <thead>\n",
       "    <tr style=\"text-align: right;\">\n",
       "      <th></th>\n",
       "      <th>Word1</th>\n",
       "      <th>Word2</th>\n",
       "      <th>LSA Rating</th>\n",
       "      <th>Word2Vec Rating</th>\n",
       "      <th>WordNet Rating</th>\n",
       "    </tr>\n",
       "  </thead>\n",
       "  <tbody>\n",
       "    <tr>\n",
       "      <th>0</th>\n",
       "      <td>tiger</td>\n",
       "      <td>cat</td>\n",
       "      <td>5.98</td>\n",
       "      <td>8.91</td>\n",
       "      <td>8.97</td>\n",
       "    </tr>\n",
       "    <tr>\n",
       "      <th>1</th>\n",
       "      <td>tiger</td>\n",
       "      <td>tiger</td>\n",
       "      <td>10.00</td>\n",
       "      <td>10.00</td>\n",
       "      <td>10.00</td>\n",
       "    </tr>\n",
       "    <tr>\n",
       "      <th>2</th>\n",
       "      <td>tiger</td>\n",
       "      <td>mammal</td>\n",
       "      <td>5.06</td>\n",
       "      <td>5.40</td>\n",
       "      <td>8.00</td>\n",
       "    </tr>\n",
       "    <tr>\n",
       "      <th>3</th>\n",
       "      <td>tiger</td>\n",
       "      <td>animal</td>\n",
       "      <td>5.02</td>\n",
       "      <td>3.53</td>\n",
       "      <td>8.00</td>\n",
       "    </tr>\n",
       "    <tr>\n",
       "      <th>4</th>\n",
       "      <td>tiger</td>\n",
       "      <td>organism</td>\n",
       "      <td>5.42</td>\n",
       "      <td>0.74</td>\n",
       "      <td>8.57</td>\n",
       "    </tr>\n",
       "  </tbody>\n",
       "</table>\n",
       "</div>"
      ],
      "text/plain": [
       "   Word1     Word2  LSA Rating  Word2Vec Rating  WordNet Rating\n",
       "0  tiger       cat        5.98             8.91            8.97\n",
       "1  tiger     tiger       10.00            10.00           10.00\n",
       "2  tiger    mammal        5.06             5.40            8.00\n",
       "3  tiger    animal        5.02             3.53            8.00\n",
       "4  tiger  organism        5.42             0.74            8.57"
      ]
     },
     "execution_count": 54,
     "metadata": {},
     "output_type": "execute_result"
    }
   ],
   "source": [
    "results_tiger_wn = [[w1,w2,lv,wv,v] for w1,w2,lv,wv,v in results_wordnet if w1=='tiger']\n",
    "pd.DataFrame(results_tiger_wn, columns=[\"Word1\",\"Word2\",\"LSA Rating\",\"Word2Vec Rating\",\"WordNet Rating\"])"
   ]
  }
 ],
 "metadata": {
  "kernelspec": {
   "display_name": "py2",
   "language": "python",
   "name": "py2"
  },
  "language_info": {
   "codemirror_mode": {
    "name": "ipython",
    "version": 2
   },
   "file_extension": ".py",
   "mimetype": "text/x-python",
   "name": "python",
   "nbconvert_exporter": "python",
   "pygments_lexer": "ipython2",
   "version": "2.7.10"
  }
 },
 "nbformat": 4,
 "nbformat_minor": 2
}

{
 "cells": [
  {
   "cell_type": "code",
   "execution_count": 2,
   "metadata": {
    "collapsed": true
   },
   "outputs": [],
   "source": [
    "# Imports y setup\n",
    "\n",
    "import pandas as pd\n",
    "import numpy as np\n",
    "import random\n",
    "import matplotlib.pyplot as plt\n",
    "import seaborn as sns; sns.set_style(\"darkgrid\")\n",
    "from scipy import stats\n",
    "sns.plt = plt\n",
    "np.random.seed(1) # No estoy seguro si es necesario\n",
    "df = pd.read_csv('tiempos.txt', sep=' ')\n",
    "\n",
    "# Comentario: Cuando hablamos de p-valores, tomamos como \"bajo\" <= 0.05, \"alto\" >\n",
    "# De todos modos, en los resultados que obtuvimos queda bien marcada la diferencia y no tuvimos \n",
    "# valores cercanos a 0.05"
   ]
  },
  {
   "cell_type": "code",
   "execution_count": 3,
   "metadata": {},
   "outputs": [
    {
     "name": "stdout",
     "output_type": "stream",
     "text": [
      "          Atleta  tiempo_sol  tiempo_nublado  tiempo_lluvia\n",
      "count  12.000000   12.000000       12.000000      12.000000\n",
      "mean    6.500000   13.908333       13.866667      33.158333\n",
      "std     3.605551    2.025949        1.789024      49.079332\n",
      "min     1.000000   11.000000       11.300000      18.200000\n",
      "25%     3.750000   12.150000       12.475000      18.775000\n",
      "50%     6.500000   14.400000       14.100000      19.050000\n",
      "75%     9.250000   15.350000       14.950000      19.250000\n",
      "max    12.000000   17.000000       16.700000     189.000000\n",
      "Atleta  tiempo_sol  tiempo_nublado  tiempo_lluvia\n",
      "     1        11.1            11.3           19.4\n",
      "     2        13.0            12.8           18.2\n",
      "     3        16.1            16.0           19.0\n",
      "     4        14.5            14.1           18.9\n",
      "     5        12.0            12.5           19.1\n",
      "     6        11.0            11.6           18.7\n",
      "     7        15.1            14.6          189.0\n",
      "     8        14.4            14.2           19.9\n",
      "     9        16.1            16.1           18.5\n",
      "    10        17.0            16.7           19.2\n",
      "    11        12.2            12.4           18.8\n",
      "    12        14.4            14.1           19.2\n"
     ]
    }
   ],
   "source": [
    "# Estadisticas basicas\n",
    "print(df.describe())\n",
    "\n",
    "# El Dataset\n",
    "print(df.to_string(index=False))\n"
   ]
  },
  {
   "cell_type": "code",
   "execution_count": 4,
   "metadata": {},
   "outputs": [
    {
     "name": "stderr",
     "output_type": "stream",
     "text": [
      "/Users/martinjedwabny/Github/CienciaDeDatos/py2/lib/python2.7/site-packages/seaborn/timeseries.py:183: UserWarning: The tsplot function is deprecated and will be removed or replaced (in a substantially altered version) in a future release.\n",
      "  warnings.warn(msg, UserWarning)\n"
     ]
    },
    {
     "data": {
      "image/png": "[encoded data removed]",
      "text/plain": [
       "<matplotlib.figure.Figure at 0x107026690>"
      ]
     },
     "metadata": {},
     "output_type": "display_data"
    },
    {
     "data": {
      "image/png": "[encoded data removed]",
      "text/plain": [
       "<matplotlib.figure.Figure at 0x10b85efd0>"
      ]
     },
     "metadata": {},
     "output_type": "display_data"
    }
   ],
   "source": [
    "sns.tsplot(time=df['Atleta'], data=df['tiempo_sol'], interpolate=False, color=\"blue\")\n",
    "sns.tsplot(time=df['Atleta'], data=df['tiempo_nublado'], interpolate=False, color=\"red\")\n",
    "sns.tsplot(time=df['Atleta'], data=df['tiempo_lluvia'], interpolate=False, color=\"green\")\n",
    "plt.show()\n",
    "\n",
    "sns.tsplot(time=df['Atleta'], data=df['tiempo_sol'], interpolate=False, color=\"blue\")\n",
    "sns.tsplot(time=df['Atleta'], data=df['tiempo_nublado'], interpolate=False, color=\"red\")\n",
    "sns.tsplot(time=df['Atleta'], data=df['tiempo_lluvia'], interpolate=False, color=\"green\")\n",
    "LLUVIA_LIMIT = 30\n",
    "plt.ylim((0,LLUVIA_LIMIT))\n",
    "plt.show()\n",
    "\n",
    "# Vemos que hay un valor de tiempo de atleta en lluvia '189' que tomamos como outlier por la \n",
    "# diferencia marcada con el resto de los datos. Lo filtramos y guardamos la nueva lista:\n",
    "\n",
    "\n",
    "df_filtrado = df[df['tiempo_lluvia'] < LLUVIA_LIMIT]"
   ]
  },
  {
   "cell_type": "code",
   "execution_count": 5,
   "metadata": {
    "collapsed": true
   },
   "outputs": [],
   "source": [
    "def permutation_test_flip(data1, data2, func):\n",
    "    assert(len(data1) == len(data2))\n",
    "    size = len(data1)\n",
    "    deltas = []\n",
    "    for i in range(2**size):\n",
    "        copy1 = list(data1)\n",
    "        copy2 = list(data2)\n",
    "        bin_i = \"{0:b}\".format(i)\n",
    "        bin_i = ['0' for j in range(size - len(bin_i))] + list(bin_i)\n",
    "        for j, digit in enumerate(bin_i):\n",
    "            if int(digit):\n",
    "                copy1[j], copy2[j] = copy2[j], copy1[j]\n",
    "        deltas.append(np.average(copy1) - np.average(copy2))\n",
    "    print\n",
    "    delta_0 = np.average(data1) - np.average(data2)\n",
    "\n",
    "    reject_delta_count = len(filter(lambda x: func(x) >= delta_0, deltas))\n",
    "    print(\"----------- Test de Permutacion -----------\")\n",
    "    print(\"Delta 0: \"+ str(delta_0))\n",
    "    print(\"Max deltas: \"+ str(max(deltas)))\n",
    "    print(\"Cantidad mayores a delta 0: \"+ str(reject_delta_count) + \" de \" + str(len(deltas)))\n",
    "    print(\"Propoción de rechazados: \"+ str(float(reject_delta_count)/(2**len(data1)))) \n",
    "    print(\"-------------------------------------------\")\n",
    "    return deltas"
   ]
  },
  {
   "cell_type": "code",
   "execution_count": 9,
   "metadata": {},
   "outputs": [
    {
     "name": "stdout",
     "output_type": "stream",
     "text": [
      "Sol (Test statistic, p-value) = (0.9382138848304749, 0.47528600692749023)\n",
      "Nublado (Test statistic, p-value) = (0.9423919916152954, 0.5296684503555298)\n",
      "Lluvia (Test statistic, p-value) = (0.9852456450462341, 0.9883151650428772)\n"
     ]
    }
   ],
   "source": [
    "# Asumimos que la habilidad de un atleta sigue una distribucion normal en la poblacion\n",
    "# Es razonable asumir que todos los datos tienen distribucion normal\n",
    "\n",
    "# Hacemos un test de normalidad de nuestros datos\n",
    "\n",
    "print \"Sol (Test statistic, p-value) = \" + str(stats.shapiro(df['tiempo_sol']))\n",
    "print \"Nublado (Test statistic, p-value) = \" + str(stats.shapiro(df['tiempo_nublado']))\n",
    "print \"Lluvia (Test statistic, p-value) = \" + str(stats.shapiro(df_filtrado['tiempo_lluvia']))\n",
    "\n",
    "# En todos los casos el p-valor obtenido es muy grande.\n",
    "# No podemos rechazar que los datos vengan de distribuciones normales."
   ]
  },
  {
   "cell_type": "code",
   "execution_count": 10,
   "metadata": {},
   "outputs": [
    {
     "name": "stdout",
     "output_type": "stream",
     "text": [
      "\n",
      "----------- Test de Permutacion -----------\n",
      "Delta 0: 5.19090909091\n",
      "Max deltas: 5.19090909091\n",
      "Cantidad mayores a delta 0: 1 de 2048\n",
      "Propoción de rechazados: 0.00048828125\n",
      "-------------------------------------------\n"
     ]
    },
    {
     "data": {
      "image/png": "[encoded data removed]",
      "text/plain": [
       "<matplotlib.figure.Figure at 0x107026ad0>"
      ]
     },
     "metadata": {},
     "output_type": "display_data"
    }
   ],
   "source": [
    "# 1) ¿Los atletas son mas lentos en dias de lluvia?\n",
    "\n",
    "# Utilizamos un test de permutaciones. Como las muestras '(tiempo_sol, tiempo_lluvia)' estan apareadas ,\n",
    "# (es decir, que corresponde por el corredor), las permutaciones consisten en intercambiar el tiempo_sol\n",
    "# con el tiempo_lluvia de corredores determinados.\n",
    "\n",
    "\n",
    "deltas = permutation_test_flip(df_filtrado['tiempo_lluvia'],df_filtrado['tiempo_sol'],(lambda x: x) )\n",
    "sns.distplot(deltas, kde=False, rug=False)\n",
    "sns.plt.show()\n",
    "\n",
    "# El p-valor computado nos dice la probabilidad de que el delta entre las medias sea igual al delta0 o mayor.\n",
    "# El p-valor da muy muy bajo (todas las muestras de lluvia son mayores que las de sol)\n",
    "\n",
    "# Podemos rechazar la hipotesis nula de que ambas muestras vienen tienen la misma media.\n",
    "\n",
    "\n",
    "# Respuesta: Tenemos suficiente informacion para afirmar que los atletas son mas lentos en dias de lluvia"
   ]
  },
  {
   "cell_type": "code",
   "execution_count": 7,
   "metadata": {},
   "outputs": [
    {
     "data": {
      "image/png": "[encoded data removed]",
      "text/plain": [
       "<matplotlib.figure.Figure at 0x7f0af4ecefd0>"
      ]
     },
     "metadata": {},
     "output_type": "display_data"
    }
   ],
   "source": [
    "# 2) Pregunta: ¿El cielo nublado no influye en los tiempos de los atletas?\n",
    "\n",
    "# Cuando esta nublado, los datos varian de forma similar a cuando hay sol\n",
    "\n",
    "sns.regplot(x=df_filtrado['tiempo_sol'], y=df_filtrado['tiempo_nublado'])\n",
    "sns.plt.show()\n"
   ]
  },
  {
   "cell_type": "code",
   "execution_count": 11,
   "metadata": {},
   "outputs": [
    {
     "name": "stdout",
     "output_type": "stream",
     "text": [
      "(Coeficiente-lineal, p-valor) = (0.99224199979513195, 1.8469595486418115e-09)\n"
     ]
    }
   ],
   "source": [
    "# Tenemos evidencia de una correlacion lineal alta entre los datos de cielo nublado y soleado\n",
    "# El coeficiente de correlacion lineal es un valor entre -1 y 1. Cuanto mas cerca del 1, mayor correlacion lineal.\n",
    "\n",
    "print \"(Coeficiente-lineal, p-valor) = \" + str(stats.pearsonr(df_filtrado['tiempo_sol'],df_filtrado['tiempo_nublado']))\n"
   ]
  },
  {
   "cell_type": "code",
   "execution_count": 21,
   "metadata": {},
   "outputs": [
    {
     "name": "stdout",
     "output_type": "stream",
     "text": [
      "BartlettResult(statistic=0.1263588326837452, pvalue=0.72223760876724175)\n",
      "Ttest_relResult(statistic=1.600386423731163e-15, pvalue=0.99999999999999878)\n"
     ]
    }
   ],
   "source": [
    "print stats.bartlett(df_filtrado['tiempo_sol'], df_filtrado['tiempo_nublado'])\n",
    "# No podemos rechazar que tengan la misma varianza porque el p-valor es alto.\n",
    "# Creemos que si la tienen.\n",
    "\n",
    "# T-Test con variables emparentadas con hipotesis nula \"Tienen misma media\"\n",
    "\n",
    "print(stats.ttest_rel(df_filtrado['tiempo_sol'],df_filtrado['tiempo_nublado']))\n",
    "\n",
    "# No podemos rechazar que tengan la misma media porque el p-valor es muy alto."
   ]
  },
  {
   "cell_type": "code",
   "execution_count": 12,
   "metadata": {},
   "outputs": [
    {
     "name": "stdout",
     "output_type": "stream",
     "text": [
      "\n",
      "----------- Test de Permutacion -----------\n",
      "Delta 0: 0.0416666666667\n",
      "Max deltas: 0.291666666667\n",
      "Cantidad mayores a delta 0: 2820 de 4096\n",
      "Propoción de rechazados: 0.6884765625\n",
      "-------------------------------------------\n"
     ]
    },
    {
     "data": {
      "image/png": "[encoded data removed]",
      "text/plain": [
       "<matplotlib.figure.Figure at 0x10b6a9c10>"
      ]
     },
     "metadata": {},
     "output_type": "display_data"
    }
   ],
   "source": [
    "# Aqui tambien podemos utilizar un test de permutaciones con \"flips\"\n",
    "# Para ver la probabilidad de ver resultados tan o mas extremos\n",
    "# Dada la hipotesiis de que ambos vienen de la misma media\n",
    "\n",
    "# Usamos df ya que no necesitamos descartar los datos del atleta outlier\n",
    "\n",
    "deltas = permutation_test_flip(df['tiempo_sol'],df['tiempo_nublado'],(lambda x: abs(x)))\n",
    "sns.distplot(deltas, kde=False, rug=False)\n",
    "sns.plt.show()\n",
    "\n",
    "# No podemos rechazar la hipotesis de que tengan la misma distribucion.\n",
    "\n",
    "# Respuesta: No tenemos suficiente informacion para decir que \n",
    "# \"El cielo nublado influye en los tiempos de los atletas\".\n",
    "# Ademas, no podemos descartar que tengan la misma media ni la misma distribucion.\n",
    "# Por lo tanto, todo parece indicar que el cielo nublado no influye."
   ]
  },
  {
   "cell_type": "code",
   "execution_count": 12,
   "metadata": {},
   "outputs": [
    {
     "data": {
      "image/png": "[encoded data removed]",
      "text/plain": [
       "<matplotlib.figure.Figure at 0x7f0af4e4d890>"
      ]
     },
     "metadata": {},
     "output_type": "display_data"
    }
   ],
   "source": [
    "# 3) La velocidad en dı́as de lluvia es independiente del atleta.\n",
    "\n",
    "# Es razonable suponer que el tiempo que tarda un corredor es una buena medida de su habilidad\n",
    "# Y que esta habilidad a su vez se relaciona tambien con su habilidad en la lluvia\n",
    "# Si es que las mediciones en lluvia son dependientes de esta.\n",
    "\n",
    "# Bajo lluvia, los tiempos de los atletas varian de forma muy diferente a sus tiempos bajo sol.\n",
    "sns.regplot(x=df_filtrado['tiempo_sol'], y=df_filtrado['tiempo_lluvia'])\n",
    "sns.plt.show()"
   ]
  },
  {
   "cell_type": "code",
   "execution_count": 13,
   "metadata": {},
   "outputs": [
    {
     "name": "stdout",
     "output_type": "stream",
     "text": [
      "(Coeficiente-lineal, p-valor) = (0.064963553876733887, 0.84949358072453474)\n"
     ]
    }
   ],
   "source": [
    "print \"(Coeficiente-lineal, p-valor) = \" + str(stats.pearsonr(df_filtrado['tiempo_sol'],df_filtrado['tiempo_lluvia']))\n",
    "# El coeficiente esta muy lejos de 1 y el p-valor es alto\n",
    "# No tenemos evidencia de correlacion lineal entre tiempo de lluvia y tiempo soleado"
   ]
  },
  {
   "cell_type": "code",
   "execution_count": 14,
   "metadata": {},
   "outputs": [
    {
     "name": "stdout",
     "output_type": "stream",
     "text": [
      "BartlettResult(statistic=16.625129578948425, pvalue=4.5543575568424302e-05)\n"
     ]
    }
   ],
   "source": [
    "print stats.bartlett(df_filtrado['tiempo_sol'], df_filtrado['tiempo_lluvia'])\n",
    "# Con este test podemos concluir que el los tiempos de sol y tiempos de lluvia tienen varianzas distintas\n",
    "# Mas aun, podemos decir que la varianza de sol es mayor\n",
    "# Esto es consistente con la hipotesis de que los tiempos en lluvia son independientes del atleta, pues varian menos\n",
    "\n",
    "\n",
    "# Creemos que no podemos cuantificar en un test si las muestras son independientes del atleta o no\n",
    "# Si tuviesemos varias mediciones por atleta podriamos comparar las \n",
    "# mediciones de dos atletas con la hipotesis de que tienen la misma media\n",
    "\n",
    "# Respuesta: No tenemos suficiente informacion para decir que \n",
    "# \"La velocidad en dı́as de lluvia es independiente del atleta\"\n",
    "# Pero creemos que si"
   ]
  },
  {
   "cell_type": "code",
   "execution_count": 24,
   "metadata": {},
   "outputs": [
    {
     "name": "stdout",
     "output_type": "stream",
     "text": [
      "F_onewayResult(statistic=36.907516413855539, pvalue=8.1830487111034126e-09)\n"
     ]
    }
   ],
   "source": [
    "# 4) El clima influye en la velocidad de los atletas.\n",
    "\n",
    "# Si asumimos que los datos vienen de una distribucion de misma varianza, podria utilizar el test f_oneway (ANOVA)\n",
    "print(stats.f_oneway(df_filtrado['tiempo_sol'],df_filtrado['tiempo_nublado'], df_filtrado['tiempo_lluvia']))\n",
    "\n",
    "# El p-valor resultante es muy chico.\n",
    "# Tenemos suficiente evidencia para rechazar la hipotesis nula de que las medias son iguales. \n",
    "# Es decir que concluimos que las medias para tiempo soleado, tiempo nublado y tiempo de lluvia son distintas.\n",
    "\n",
    "# Notar que utilizamos un test que no utiliza la hipotesis de que apareamiento entre los dias.\n",
    "# Es decir, no importó que hayamos tomado muestras de soleado nublado y lluvia para mismos corredores.\n",
    "# Aun asi, tuvimos suficiente evidencia para rechazar la hipotesis nula"
   ]
  },
  {
   "cell_type": "code",
   "execution_count": 28,
   "metadata": {
    "collapsed": true
   },
   "outputs": [],
   "source": [
    "# ¿Sirve entrenar en dias de lluvia?\n",
    "\n",
    "# Hasta ahora pudimos ver que los dias de lluvia los atletas parecen no rendir bajo lluvia\n",
    "# de acuerdo a sus capacidades.\n",
    "# Desde este punto de vista se podria decir que entrenar bajo lluvia \"no sirve\".\n",
    "\n",
    "# Sin embargo, podemos decir que si \"entrenar bajo lluvia sirve\" es una cuestion que no tiene que ver con\n",
    "# como rinden los atletas en un dia especifico sino que depende del beneficio que un atleta obtiene en el tiempo.\n",
    "# Es decir, cuanto evoluciona el atleta en sus marcas a traves del tiempo si entrena en dias de lluvia.\n",
    "\n",
    "# Para testear esto, por ejemplo, se podria separar a los atletas en dos grupos, hacer entrenar \n",
    "# a un grupo en algun lugar con lluvias frecuentes, ver como evoluciona cada grupo y compararlos.\n"
   ]
  },
  {
   "cell_type": "code",
   "execution_count": null,
   "metadata": {
    "collapsed": true
   },
   "outputs": [],
   "source": [
    "# ¿Que le recomendariamos al entrenador?\n",
    "\n",
    "# Le podriamos recomendar que si lo quiere es que cada atleta rinda en el entrenamiento\n",
    "# el maximo de su potencial de acuerdo a sus capacidades, que evite entrenar bajo lluvia.\n",
    "\n",
    "# Sin embargo, nos parece interesante la opcion de separar los atletas en dos grupos donde\n",
    "# solo uno entrene bajo lluvia y comparar sus evoluciones."
   ]
  }
 ],
 "metadata": {
  "kernelspec": {
   "display_name": "Python 2",
   "language": "python",
   "name": "python2"
  },
  "language_info": {
   "codemirror_mode": {
    "name": "ipython",
    "version": 2
   },
   "file_extension": ".py",
   "mimetype": "text/x-python",
   "name": "python",
   "nbconvert_exporter": "python",
   "pygments_lexer": "ipython2",
   "version": "2.7.13"
  }
 },
 "nbformat": 4,
 "nbformat_minor": 2
}
